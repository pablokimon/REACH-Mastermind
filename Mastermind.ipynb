{
 "cells": [
  {
   "cell_type": "code",
   "execution_count": 37,
   "metadata": {},
   "outputs": [],
   "source": [
    "import requests\n",
    "import json\n",
    "from collections import defaultdict\n",
    "import sys\n",
    "from random import shuffle\n",
    "from time import sleep\n",
    "import os\n",
    "import subprocess"
   ]
  },
  {
   "cell_type": "raw",
   "metadata": {},
   "source": [
    "https://www.random.org/integers/?num=4&min=1&max=6&col=1&base=10&format=plain&rnd=new"
   ]
  },
  {
   "cell_type": "code",
   "execution_count": null,
   "metadata": {},
   "outputs": [],
   "source": [
    "def getRandomPattern(pattern_length,pattern_start,pattern_end):\n",
    "    '''returns a list of a series of random numbers based on the parameters passed in.\n",
    "    \n",
    "    '''\n",
    "    print('Please wait...generating random pattern...',end='')\n",
    "    url = 'https://www.random.org/integers/' #integer generator\n",
    "    params = {'num':pattern_length,'min':pattern_start,'max':pattern_end,'col':1,'base':10,'format':'plain','rnd':'new'} # api parameters\n",
    "    response = requests.get(url,params) #save the contents of the get request to a variable, returns a plain text list of numbers with \\n new line after each number\n",
    "    pattern = [int(x) for x in response.text.strip('\\n').split('\\n')] #parse the response into a nice list: remove the last \\n from the string, split on \\n and use list comprehension to convert each string into an integer\n",
    "    sleep(0.5) # wait a half second...\n",
    "    print('\\r \\n') # overwrite the 'please wait' message\n",
    "    return pattern"
   ]
  },
  {
   "cell_type": "code",
   "execution_count": 39,
   "metadata": {},
   "outputs": [],
   "source": [
    "def checkGuess(guess,pattern):\n",
    "    '''\n",
    "    Compares a guess by the user to the computer's pattern. \n",
    "    This function expects both guess and pattern to be lists of the same size.\n",
    "    This similarity is checked when the guess is captured before it is passed here.\n",
    "    We iterate through the guess from index 0.\n",
    "    First we check for correct number and location and then correct number from remaining elements.\n",
    "    '''\n",
    "    \n",
    "    correctLocation = 0 #counter for number of guesses that are in the correct number and location\n",
    "    correctNumber = 0 #conter for the number of guesses that are only a correct number but NOT in the correct place\n",
    "    pattern_copy = pattern.copy() # a copy of the pattern so the correct location numbers can be removed and compared to the other guess values\n",
    "    guess_copy = guess.copy() # a copy of the guess so that the correct location numbers can be removed and the remaining compared to the pattern_\n",
    "    \n",
    "    for x in range(len(guess)): #loops over the length of the guess, uses x as an index of the list\n",
    "        if guess[x] == pattern[x]: #check if the index of the guess is in the correct place and correct number then increment counter\n",
    "            correctLocation += 1 \n",
    "            pattern_copy.remove(guess[x]) #remove first instance of current correct guess number from pattern_copy so it doesn't get counted again\n",
    "            guess_copy.remove(guess[x]) # remove first instance of current correct guess number from guess_copy so it doesn't get counted again\n",
    "    \n",
    "    for x in guess_copy: # to find number only matches, iterate through remaining values in guess_copy to check if they are included in remaing pattern_copy\n",
    "        if x in pattern_copy: #if element of guess_copy is in pattern_copy,\n",
    "            correctNumber += 1 # increment correct number\n",
    "            pattern_copy.remove(x) # and remove from pattern_copy so it doesn't get counted again\n",
    "    \n",
    "    return correctNumber,correctLocation #return the counts of correct number only and correct number and location, respectively"
   ]
  },
  {
   "cell_type": "code",
   "execution_count": 41,
   "metadata": {},
   "outputs": [],
   "source": [
    "def guessInRange(guess,pattern_range):\n",
    "    '''iterates through the guess and checks if the elements are in the range of the pattern,\n",
    "    as soon as an element is found outside the range, return false'''\n",
    "    for g in guess:\n",
    "        if g not in pattern_range:\n",
    "            print(\"Sorry one of your guesses was outside the range\")\n",
    "            return False\n",
    "        else:\n",
    "            return True"
   ]
  },
  {
   "cell_type": "code",
   "execution_count": 42,
   "metadata": {},
   "outputs": [],
   "source": [
    "def giveHint():\n",
    "    '''to be completed, gives hint based on previous guesses'''\n",
    "    print(\"Here's a hint, try something different.\")\n",
    "    pass"
   ]
  },
  {
   "cell_type": "code",
   "execution_count": 43,
   "metadata": {},
   "outputs": [],
   "source": [
    "def getGuess(guess_number,pattern_length,pattern_start,pattern_end,pattern_range):\n",
    "    '''\n",
    "    This function captures the guess via keyboard input and verifies that the guess is the same length as the pattern\n",
    "    and that the elements of the guess are integers that fall within the pattern range. \n",
    "    This function also provides for expanded functions like quit, hint, restart, etc.\n",
    "    '''\n",
    "    \n",
    "    while True:\n",
    "        try:\n",
    "            guess = input('Guess # {}: Please enter {} numbers between {} and {} inclusive '.format(guess_number,pattern_length,pattern_start,pattern_end)) # captures guess displaying length, start and end of guess number range\n",
    "            \n",
    "            if guess.lower() == 'q' or guess.lower() == 'quit': # quits game\n",
    "                sys.exit()\n",
    "            \n",
    "            if guess.lower() == 'r' or guess.lower() == 'reset' or guess.lower() == 'restart': # restarts game\n",
    "                startGame()\n",
    "                \n",
    "            if guess.lower() == 'h' or guess.lower() == 'hint': # gives hint\n",
    "                giveHint()\n",
    "                continue\n",
    "                \n",
    "            guess =[int(g) for g in guess] #converts the guess into a list of integers\n",
    "            \n",
    "        except ValueError: #catches the error if the input is not integers and tries again\n",
    "            print ('Oops you entered something other than numbers')\n",
    "            continue \n",
    "        \n",
    "        if len(guess) != pattern_length: #catches the error if the input doesn't match the length of the pattern and tries again\n",
    "            print (\"Oops your guess wasn't %d numbers long\" %pattern_length)\n",
    "            continue\n",
    "\n",
    "        elif not guessInRange(guess,pattern_range): #checks if elements of guess are all within the pattern range. I tried to get this working in an if statement, but had to move it outside to a function\n",
    "            continue\n",
    "            \n",
    "        else:\n",
    "            return guess                   "
   ]
  },
  {
   "cell_type": "code",
   "execution_count": 44,
   "metadata": {},
   "outputs": [],
   "source": [
    "def setParameters(pattern_length, pattern_start, pattern_end, max_guess):\n",
    "    '''This function is used to set the game parameters to values other than the default values\n",
    "    it is not complete and could use a nice function to capture good values for these parameters to avoid repeated code\n",
    "    '''\n",
    "    \n",
    "    print ('Press the corresponding number to change a parameter or press enter to return to the game:')\n",
    "    print ('1. Pattern Length', pattern_length)\n",
    "    \n",
    "    print ('''\n",
    "    Press the corresponding number to change a parameter or press enter to return to the game:\n",
    "    1. Pattern Length: {}\n",
    "    2. Pattern Range Start: {}\n",
    "    3. Pattern Range End: {}\n",
    "    4. Maximium Number of Guesses: {}\n",
    "    0. Return to Game\n",
    "    '''.format(pattern_length, pattern_start, pattern_end, max_guess))\n",
    "    \n",
    "    while True:\n",
    "        try:\n",
    "            parameter_number = int(input('Which parameter would you like to change?'))\n",
    "    \n",
    "            if parameter_number == 1:\n",
    "                pass\n",
    "            if parameter_number == 2:\n",
    "                pass\n",
    "            if parameter_number == 3:\n",
    "                pass\n",
    "            if parameter_number == 4:\n",
    "                pass\n",
    "            if parameter_number == 0:\n",
    "                pass\n",
    "        except ValueError:\n",
    "            print ('Oops please enter a number from the menu above.')\n",
    "            continue"
   ]
  },
  {
   "cell_type": "code",
   "execution_count": 45,
   "metadata": {},
   "outputs": [],
   "source": [
    "def shuffleWord(word='mastermind',shuffles=10): \n",
    "    '''This function shuffles the letter in the word mastermind in place and then displays the word'''\n",
    "\n",
    "    word_upper = [m.upper() for m in word] #make the word uppercase\n",
    "    word_shuffled = word_upper.copy() # make a copy to be shuffled\n",
    "    for x in range(shuffles): # setup a loop for shuffling the word, arbitrarily the length of the word + 1 LOL\n",
    "        shuffle(word_shuffled) # shuffle a copy of the word\n",
    "        print('\\r',''.join(word_shuffled),end='') #print the shuffled word on the same line over itself\n",
    "        sleep(0.5) # wait half a second \n",
    " \n",
    "    print('\\r','*'*len(word),end='') # print a line of astericks for emphasis before...\n",
    "    sleep(0.5) # wait a half second...\n",
    "    print ('\\r',''.join(word_upper),end='') # display the original unshuffled word\n",
    "    sleep(2) #wait two seconds\n",
    "    print ('\\r',' '*len(word))\n"
   ]
  },
  {
   "cell_type": "code",
   "execution_count": 46,
   "metadata": {},
   "outputs": [],
   "source": [
    "def clear():\n",
    "    '''requires os and subprocess\n",
    "    always standing on the shoulders of giants: https://stackoverflow.com/questions/517970/how-to-clear-the-interpreter-console'''\n",
    "    if os.name in ('nt','dos'):\n",
    "        subprocess.call(\"cls\")\n",
    "    elif os.name in ('linux','osx','posix'):\n",
    "        subprocess.call(\"clear\")\n",
    "    else:\n",
    "        print(\"\\n\") * 120"
   ]
  },
  {
   "cell_type": "code",
   "execution_count": null,
   "metadata": {},
   "outputs": [],
   "source": [
    "def startGame():\n",
    "    \n",
    "    pattern_length = 4\n",
    "    pattern_start = 1\n",
    "    pattern_end = 8\n",
    "    pattern_range = [r for r in range(pattern_start,pattern_end+1)]\n",
    "    guess_number = 0\n",
    "    max_guess = 10\n",
    "    result_dict = defaultdict(dict)\n",
    "    win = False\n",
    "    \n",
    "    shuffleWord() #\n",
    "    \n",
    "    print('''Welcome to MASTERMIND\n",
    "    \n",
    "Game rules:\n",
    "\n",
    "At the start of the game the computer will randomly select a pattern of four different numbers from a total of 8 different numbers.\n",
    "The player will then have 10 chances to correctly guess the pattern.\n",
    "\n",
    "After each guess attempt, the computer will provide feedback whether the player:\n",
    "    •had guessed a number correctly, and/or\n",
    "    •had guessed a number and location correctly.\n",
    "\n",
    "The computer will not tell you which numbers you guessed correctly, you must use a combination of skill, luck and deductive reasoning to win!\n",
    "\n",
    "Example game play:\n",
    "If the pattern was [4,5,6,7]\n",
    "and you guessed    [7,5,1,2]\n",
    "\n",
    "The computer will tell you:\n",
    "Correct Location and Number: 1, Correct Number Only: 1\n",
    "\n",
    "Which means:\n",
    "you got one number and location right (5)\n",
    "you got one number right (7) but in the wrong location\n",
    "\n",
    "Got it?\n",
    "\n",
    "Press enter to start a new game!\n",
    "\n",
    "Press \\'s' to change game settings\n",
    "Press \\'q' at anytime to quit \n",
    "    ''')\n",
    "    _ = input()\n",
    "    if _.lower()=='s': #change game settings\n",
    "        setParameters(pattern_length, pattern_start, pattern_end, max_guess)\n",
    "    \n",
    "    if _.lower() == 'q' or _.lower() == 'quit': # quits game\n",
    "        sys.exit()    \n",
    "    \n",
    "    pattern = getRandomPattern(pattern_length,pattern_start,pattern_end) #generates pattern using random.org/integers api\n",
    "    \n",
    "    clear() # clears the terminal window\n",
    "    \n",
    "    while guess_number < max_guess: # continue game play while player still has guesses\n",
    "        print ('You only have {} guesses remaining!'.format(max_guess-guess_number))\n",
    "        guess_number += 1 #increment guesses\n",
    "\n",
    "        guess = getGuess(guess_number,pattern_length,pattern_start,pattern_end,pattern_range) #capture valid guess\n",
    "        correctNumber, correctLocation = checkGuess(guess,pattern) #check guess against pattern\n",
    "\n",
    "        shuffleWord(word='checking',shuffles=2)\n",
    "        \n",
    "        if correctLocation == 4: #stop game play if correct guess\n",
    "            win = True\n",
    "            break\n",
    "        else:\n",
    "            shuffleWord(word='Wrong!',shuffles=3) # if guess not correct, shame them lightly and continue     \n",
    "            \n",
    "        result_dict[guess_number]={'Guess':guess,'Correct Number':correctNumber, 'Correct Location':correctLocation} # add guess and results to dict\n",
    "        for keys,values in result_dict.items(): #iterate through dict of guess results\n",
    "            print('Guess #',keys,values['Guess'],'Correct Number Only:',values['Correct Number'],'Correct Number and Location:',values['Correct Location']) # print each guess and results for review\n",
    "  \n",
    "    if win: \n",
    "        shuffleWord(word='Congratulations!',shuffles=5) #shuffle congrats\n",
    "        print ('You guessed the pattern in {} guesses! the pattern was {}'.format(guess_number,pattern))\n",
    "    else:\n",
    "        print ('Too Bad you lost, the pattern was ',pattern)\n",
    "    \n",
    "    print('')\n",
    "    again = input('Would you like to play again(y/n)?')\n",
    "    if again.lower() == 'y':\n",
    "        startGame()\n",
    "    else:\n",
    "        sys.exit()\n",
    "\n"
   ]
  },
  {
   "cell_type": "code",
   "execution_count": null,
   "metadata": {},
   "outputs": [
    {
     "name": "stdout",
     "output_type": "stream",
     "text": [
      "           \n",
      "Welcome to MASTERMIND\n",
      "    \n",
      "Game rules:\n",
      "\n",
      "At the start of the game the computer will randomly select a pattern of four different numbers from a total of 8 different numbers.\n",
      "The player will then have 10 chances to correctly guess the pattern.\n",
      "\n",
      "After each guess attempt, the computer will provide feedback whether the player:\n",
      "    •had guessed a number correctly, and/or\n",
      "    •had guessed a number and location correctly.\n",
      "\n",
      "The computer will not tell you which numbers you guessed correctly, you must use a combination of skill, luck and deductive reasoning to win!\n",
      "\n",
      "Example game play:\n",
      "If the pattern was [4,5,6,7]\n",
      "and you guessed    [7,5,1,2]\n",
      "\n",
      "The computer will tell you:\n",
      "Correct Location and Number: 1, Correct Number Only: 1\n",
      "\n",
      "Which means:\n",
      "you got one number and location right (5)\n",
      "you got one number right (7) but in the wrong location\n",
      "\n",
      "Got it?\n",
      "\n",
      "Press enter to start a new game!\n",
      "\n",
      "Press 's' to change game settings\n",
      "Press 'q' at anytime to quit \n",
      "    \n"
     ]
    },
    {
     "name": "stdin",
     "output_type": "stream",
     "text": [
      " \n"
     ]
    },
    {
     "name": "stdout",
     "output_type": "stream",
     "text": [
      " \n",
      "\n",
      "You only have 10 guesses remaining!\n"
     ]
    },
    {
     "name": "stdin",
     "output_type": "stream",
     "text": [
      "Guess # 1: Please enter 4 numbers between 1 and 8 inclusive  1111\n"
     ]
    },
    {
     "name": "stdout",
     "output_type": "stream",
     "text": [
      "       \n",
      "Guess # 1 [1, 1, 1, 1] Correct Number Only: 0 Correct Number and Location: 0\n",
      "You only have 9 guesses remaining!\n"
     ]
    }
   ],
   "source": [
    "startGame()"
   ]
  },
  {
   "cell_type": "code",
   "execution_count": 1,
   "metadata": {},
   "outputs": [
    {
     "name": "stdout",
     "output_type": "stream",
     "text": [
      "\n",
      "\n",
      "                                                                                                                                                                                                     \n",
      "                                                                                                                                                                                             dddddddd\n",
      "MMMMMMMM               MMMMMMMM                                           tttt                                                                            iiii                               d::::::d\n",
      "M:::::::M             M:::::::M                                        ttt:::t                                                                           i::::i                              d::::::d\n",
      "M::::::::M           M::::::::M                                        t:::::t                                                                            iiii                               d::::::d\n",
      "M:::::::::M         M:::::::::M                                        t:::::t                                                                                                               d:::::d \n",
      "M::::::::::M       M::::::::::M  aaaaaaaaaaaaa      ssssssssss   ttttttt:::::ttttttt        eeeeeeeeeeee    rrrrr   rrrrrrrrr      mmmmmmm    mmmmmmm   iiiiiiinnnn  nnnnnnnn        ddddddddd:::::d \n",
      "M:::::::::::M     M:::::::::::M  a::::::::::::a   ss::::::::::s  t:::::::::::::::::t      ee::::::::::::ee  r::::rrr:::::::::r   mm:::::::m  m:::::::mm i:::::in:::nn::::::::nn    dd::::::::::::::d \n",
      "M:::::::M::::M   M::::M:::::::M  aaaaaaaaa:::::ass:::::::::::::s t:::::::::::::::::t     e::::::eeeee:::::eer:::::::::::::::::r m::::::::::mm::::::::::m i::::in::::::::::::::nn  d::::::::::::::::d \n",
      "M::::::M M::::M M::::M M::::::M           a::::as::::::ssss:::::stttttt:::::::tttttt    e::::::e     e:::::err::::::rrrrr::::::rm::::::::::::::::::::::m i::::inn:::::::::::::::nd:::::::ddddd:::::d \n",
      "M::::::M  M::::M::::M  M::::::M    aaaaaaa:::::a s:::::s  ssssss       t:::::t          e:::::::eeeee::::::e r:::::r     r:::::rm:::::mmm::::::mmm:::::m i::::i  n:::::nnnn:::::nd::::::d    d:::::d \n",
      "M::::::M   M:::::::M   M::::::M  aa::::::::::::a   s::::::s            t:::::t          e:::::::::::::::::e  r:::::r     rrrrrrrm::::m   m::::m   m::::m i::::i  n::::n    n::::nd:::::d     d:::::d \n",
      "M::::::M    M:::::M    M::::::M a::::aaaa::::::a      s::::::s         t:::::t          e::::::eeeeeeeeeee   r:::::r            m::::m   m::::m   m::::m i::::i  n::::n    n::::nd:::::d     d:::::d \n",
      "M::::::M     MMMMM     M::::::Ma::::a    a:::::assssss   s:::::s       t:::::t    tttttte:::::::e            r:::::r            m::::m   m::::m   m::::m i::::i  n::::n    n::::nd:::::d     d:::::d \n",
      "M::::::M               M::::::Ma::::a    a:::::as:::::ssss::::::s      t::::::tttt:::::te::::::::e           r:::::r            m::::m   m::::m   m::::mi::::::i n::::n    n::::nd::::::ddddd::::::dd\n",
      "M::::::M               M::::::Ma:::::aaaa::::::as::::::::::::::s       tt::::::::::::::t e::::::::eeeeeeee   r:::::r            m::::m   m::::m   m::::mi::::::i n::::n    n::::n d:::::::::::::::::d\n",
      "M::::::M               M::::::M a::::::::::aa:::as:::::::::::ss          tt:::::::::::tt  ee:::::::::::::e   r:::::r            m::::m   m::::m   m::::mi::::::i n::::n    n::::n  d:::::::::ddd::::d\n",
      "MMMMMMMM               MMMMMMMM  aaaaaaaaaa  aaaa sssssssssss              ttttttttttt      eeeeeeeeeeeeee   rrrrrrr            mmmmmm   mmmmmm   mmmmmmiiiiiiii nnnnnn    nnnnnn   ddddddddd   ddddd\n",
      "                                                                                                                                                                                                     \n",
      "                                                                                                                                                                                                     \n",
      "                                                                                                                                                                                                     \n",
      "                                                                                                                                                                                                     \n",
      "                                                                                                                                                                                                     \n",
      "                                                                                                                                                                                                     \n",
      "                                                                                                                                                                                                     \n",
      "\n",
      "\n"
     ]
    }
   ],
   "source": [
    "print('''\n",
    "\n",
    "\n",
    "                                                                                                                                                                                                     \n",
    "                                                                                                                                                                                             dddddddd\n",
    "MMMMMMMM               MMMMMMMM                                           tttt                                                                            iiii                               d::::::d\n",
    "M:::::::M             M:::::::M                                        ttt:::t                                                                           i::::i                              d::::::d\n",
    "M::::::::M           M::::::::M                                        t:::::t                                                                            iiii                               d::::::d\n",
    "M:::::::::M         M:::::::::M                                        t:::::t                                                                                                               d:::::d \n",
    "M::::::::::M       M::::::::::M  aaaaaaaaaaaaa      ssssssssss   ttttttt:::::ttttttt        eeeeeeeeeeee    rrrrr   rrrrrrrrr      mmmmmmm    mmmmmmm   iiiiiiinnnn  nnnnnnnn        ddddddddd:::::d \n",
    "M:::::::::::M     M:::::::::::M  a::::::::::::a   ss::::::::::s  t:::::::::::::::::t      ee::::::::::::ee  r::::rrr:::::::::r   mm:::::::m  m:::::::mm i:::::in:::nn::::::::nn    dd::::::::::::::d \n",
    "M:::::::M::::M   M::::M:::::::M  aaaaaaaaa:::::ass:::::::::::::s t:::::::::::::::::t     e::::::eeeee:::::eer:::::::::::::::::r m::::::::::mm::::::::::m i::::in::::::::::::::nn  d::::::::::::::::d \n",
    "M::::::M M::::M M::::M M::::::M           a::::as::::::ssss:::::stttttt:::::::tttttt    e::::::e     e:::::err::::::rrrrr::::::rm::::::::::::::::::::::m i::::inn:::::::::::::::nd:::::::ddddd:::::d \n",
    "M::::::M  M::::M::::M  M::::::M    aaaaaaa:::::a s:::::s  ssssss       t:::::t          e:::::::eeeee::::::e r:::::r     r:::::rm:::::mmm::::::mmm:::::m i::::i  n:::::nnnn:::::nd::::::d    d:::::d \n",
    "M::::::M   M:::::::M   M::::::M  aa::::::::::::a   s::::::s            t:::::t          e:::::::::::::::::e  r:::::r     rrrrrrrm::::m   m::::m   m::::m i::::i  n::::n    n::::nd:::::d     d:::::d \n",
    "M::::::M    M:::::M    M::::::M a::::aaaa::::::a      s::::::s         t:::::t          e::::::eeeeeeeeeee   r:::::r            m::::m   m::::m   m::::m i::::i  n::::n    n::::nd:::::d     d:::::d \n",
    "M::::::M     MMMMM     M::::::Ma::::a    a:::::assssss   s:::::s       t:::::t    tttttte:::::::e            r:::::r            m::::m   m::::m   m::::m i::::i  n::::n    n::::nd:::::d     d:::::d \n",
    "M::::::M               M::::::Ma::::a    a:::::as:::::ssss::::::s      t::::::tttt:::::te::::::::e           r:::::r            m::::m   m::::m   m::::mi::::::i n::::n    n::::nd::::::ddddd::::::dd\n",
    "M::::::M               M::::::Ma:::::aaaa::::::as::::::::::::::s       tt::::::::::::::t e::::::::eeeeeeee   r:::::r            m::::m   m::::m   m::::mi::::::i n::::n    n::::n d:::::::::::::::::d\n",
    "M::::::M               M::::::M a::::::::::aa:::as:::::::::::ss          tt:::::::::::tt  ee:::::::::::::e   r:::::r            m::::m   m::::m   m::::mi::::::i n::::n    n::::n  d:::::::::ddd::::d\n",
    "MMMMMMMM               MMMMMMMM  aaaaaaaaaa  aaaa sssssssssss              ttttttttttt      eeeeeeeeeeeeee   rrrrrrr            mmmmmm   mmmmmm   mmmmmmiiiiiiii nnnnnn    nnnnnn   ddddddddd   ddddd\n",
    "                                                                                                                                                                                                     \n",
    "                                                                                                                                                                                                     \n",
    "                                                                                                                                                                                                     \n",
    "                                                                                                                                                                                                     \n",
    "                                                                                                                                                                                                     \n",
    "                                                                                                                                                                                                     \n",
    "                                                                                                                                                                                                     \n",
    "\n",
    "\n",
    "''')"
   ]
  },
  {
   "cell_type": "code",
   "execution_count": 25,
   "metadata": {},
   "outputs": [
    {
     "name": "stdout",
     "output_type": "stream",
     "text": [
      " MASTERMIND"
     ]
    }
   ],
   "source": [
    "from random import randint \n",
    "from random import shuffle\n",
    "from time import sleep\n",
    "mastermind = [m.upper() for m in 'mastermind']\n",
    "mastermind_shuffled = mastermind.copy()\n",
    "#print (''.join(mastermind))\n",
    "for x in range(len(mastermind)):\n",
    "    y=randint(0,len(mastermind))\n",
    "    shuffle(mastermind_shuffled)\n",
    "    print('\\r',''.join(mastermind_shuffled[0:x]),end='')\n",
    "    sleep(0.5)\n",
    "print ('\\r',''.join(mastermind),end='')"
   ]
  },
  {
   "cell_type": "code",
   "execution_count": null,
   "metadata": {},
   "outputs": [],
   "source": [
    "mastermindTumbleLogo()"
   ]
  },
  {
   "cell_type": "code",
   "execution_count": 157,
   "metadata": {},
   "outputs": [
    {
     "name": "stdout",
     "output_type": "stream",
     "text": [
      "\n",
      "*     *     *\n",
      "**   **    * *\n",
      "* * * *   *   *\n",
      "*  *  *  *******\n",
      "*     * *       *\n"
     ]
    }
   ],
   "source": [
    "print(\n",
    "    '''\n",
    "*     *     *\n",
    "**   **    * *\n",
    "* * * *   *   *\n",
    "*  *  *  *******\n",
    "*     * *       *''')\n"
   ]
  }
 ],
 "metadata": {
  "kernelspec": {
   "display_name": "Python 3",
   "language": "python",
   "name": "python3"
  },
  "language_info": {
   "codemirror_mode": {
    "name": "ipython",
    "version": 3
   },
   "file_extension": ".py",
   "mimetype": "text/x-python",
   "name": "python",
   "nbconvert_exporter": "python",
   "pygments_lexer": "ipython3",
   "version": "3.6.8"
  }
 },
 "nbformat": 4,
 "nbformat_minor": 4
}
